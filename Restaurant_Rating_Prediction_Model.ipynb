{
  "cells": [
    {
      "cell_type": "markdown",
      "metadata": {
        "id": "view-in-github",
        "colab_type": "text"
      },
      "source": [
        "<a href=\"https://colab.research.google.com/github/atharva14-svg/AquaWatch-Insights/blob/main/Restaurant_Rating_Prediction_Model.ipynb\" target=\"_parent\"><img src=\"https://colab.research.google.com/assets/colab-badge.svg\" alt=\"Open In Colab\"/></a>"
      ]
    },
    {
      "cell_type": "code",
      "source": [
        "import pandas as pd\n",
        "from sklearn.model_selection import train_test_split\n",
        "from sklearn.tree import DecisionTreeRegressor\n",
        "from sklearn.metrics import mean_squared_error, r2_score"
      ],
      "outputs": [],
      "execution_count": null,
      "metadata": {
        "id": "ydz-XWL5KlhR"
      }
    },
    {
      "cell_type": "code",
      "source": [
        "print(\"Importing the dataset from 'Dataset .csv'.\")\n",
        "try:\n",
        "    df = pd.read_csv(\"Dataset .csv\")\n",
        "except FileNotFoundError:\n",
        "    print(\"Error: 'Dataset .csv' not found. Using simulated data for demonstration.\")\n",
        "    data = {\n",
        "        'Cuisines': ['Italian', 'Mexican', 'Indian', 'Italian', 'Mexican', 'Indian', 'Italian', 'Mexican', 'Indian'],\n",
        "        'Average Cost for two': [500, 300, 800, 600, 450, 900, 700, 350, 750],\n",
        "        'Has Online delivery': ['Yes', 'No', 'Yes', 'Yes', 'Yes', 'No', 'Yes', 'No', 'Yes'],\n",
        "        'Has Table booking': ['Yes', 'No', 'No', 'Yes', 'No', 'Yes', 'Yes', 'No', 'Yes'],\n",
        "        'Votes': [150, 80, 250, 200, 120, 300, 180, 90, 270],\n",
        "        'Aggregate rating': [4.5, 3.2, 4.8, 4.2, 3.5, 4.9, 4.6, 3.4, 4.7]\n",
        "    }\n",
        "    df = pd.DataFrame(data)"
      ],
      "metadata": {
        "id": "M1MOebBSMcSF"
      },
      "execution_count": null,
      "outputs": []
    },
    {
      "cell_type": "code",
      "source": [
        "print(\"\\nPreprocessing the dataset.\")\n",
        "features = ['Average Cost for two', 'Votes'] # Keep only numerical features in the 'features' list\n",
        "target = 'Aggregate rating'\n",
        "\n",
        "# Handle missing values before one-hot encoding\n",
        "cols_to_check_for_nulls = ['Average Cost for two', 'Votes', 'Has Online delivery', 'Has Table booking', 'Cuisines', 'Aggregate rating']\n",
        "if all(col in df.columns for col in cols_to_check_for_nulls) and df[cols_to_check_for_nulls].isnull().sum().any():\n",
        "    print(\"Warning: Missing values detected. Handling them now.\")\n",
        "    for col in ['Average Cost for two', 'Votes']:\n",
        "        if col in df.columns:\n",
        "            df[col].fillna(df[col].mean(), inplace=True)\n",
        "    for col in ['Has Online delivery', 'Has Table booking']:\n",
        "        if col in df.columns:\n",
        "            df[col].fillna('No', inplace=True)\n",
        "    if 'Cuisines' in df.columns:\n",
        "        df['Cuisines'].fillna('Unknown', inplace=True)\n",
        "    if 'Aggregate rating' in df.columns:\n",
        "        df['Aggregate rating'].fillna(df['Aggregate rating'].mean(), inplace=True)\n",
        "\n",
        "\n",
        "categorical_features = ['Cuisines', 'Has Online delivery', 'Has Table booking']\n",
        "# Ensure categorical features exist before attempting get_dummies\n",
        "categorical_features_existing = [col for col in categorical_features if col in df.columns]\n",
        "if categorical_features_existing:\n",
        "    df = pd.get_dummies(df, columns=categorical_features_existing, drop_first=True)\n",
        "\n",
        "# Select features (X) and target (y) after one-hot encoding\n",
        "# Include original numerical features and all dummy variables\n",
        "X = df[features + [col for col in df.columns if col.startswith('Cuisines_') or col.startswith('Has Online delivery_') or col.startswith('Has Table booking_')]]\n",
        "y = df[target]\n",
        "\n",
        "# Ensure X and y have the same number of rows\n",
        "if X.shape[0] != y.shape[0]:\n",
        "    print(\"Error: Mismatch in number of rows between features (X) and target (y).\")\n",
        "else:\n",
        "    print(f\"Shape of features (X): {X.shape}\")\n",
        "    print(f\"Shape of target (y): {y.shape}\")"
      ],
      "metadata": {
        "id": "bm4cz3hoPJ-9"
      },
      "execution_count": null,
      "outputs": []
    },
    {
      "cell_type": "code",
      "source": [
        "print(\"\\nSplitting the data.\")\n",
        "X_train, X_test, y_train, y_test = train_test_split(X, y, test_size=0.2, random_state=42)\n",
        "\n",
        "print(f\"Shape of training data: {X_train.shape}\")\n",
        "print(f\"Shape of testing data: {X_test.shape}\")"
      ],
      "metadata": {
        "id": "9fWPEgKKLE8B"
      },
      "execution_count": null,
      "outputs": []
    },
    {
      "cell_type": "code",
      "source": [
        "print(\"\\nTraining the machine learning model.\")\n",
        "model = DecisionTreeRegressor(random_state=42)\n",
        "model.fit(X_train, y_train)"
      ],
      "metadata": {
        "id": "YMEaDBcQMLtv"
      },
      "execution_count": null,
      "outputs": []
    },
    {
      "cell_type": "code",
      "source": [
        "print(\"\\nEvaluating the model's performance.\")\n",
        "y_pred = model.predict(X_test)\n",
        "mse = mean_squared_error(y_test, y_pred)\n",
        "r2 = r2_score(y_test, y_pred)\n",
        "\n",
        "print(f\"Mean Squared Error (MSE): {mse:.2f}\")\n",
        "print(f\"R-squared (R2) Score: {r2:.2f}\")"
      ],
      "metadata": {
        "id": "vG9eU3QfMMcp"
      },
      "execution_count": null,
      "outputs": []
    },
    {
      "cell_type": "code",
      "source": [
        "print(\"\\nAnalyzing the most influential features.\")\n",
        "feature_importances = pd.Series(model.feature_importances_, index=X.columns)\n",
        "most_important_features = feature_importances.sort_values(ascending=False)\n",
        "\n",
        "print(\"Top influential features affecting restaurant ratings:\")\n",
        "print(most_important_features)"
      ],
      "metadata": {
        "id": "ruGfGiXQMQgx"
      },
      "execution_count": null,
      "outputs": []
    },
    {
      "cell_type": "code",
      "source": [
        "from google.colab import drive\n",
        "drive.mount('/content/drive')"
      ],
      "metadata": {
        "id": "6zbD-4saUWAA"
      },
      "execution_count": null,
      "outputs": []
    },
    {
      "cell_type": "code",
      "metadata": {
        "id": "b8affb3c",
        "outputId": "697e8420-5ac1-43c5-f1de-b4a30ef4e870",
        "colab": {
          "base_uri": "https://localhost:8080/"
        }
      },
      "source": [
        "try:\n",
        "    with open('/content/sample_data/README.md', 'r') as f:\n",
        "        readme_content = f.read()\n",
        "    print(readme_content)\n",
        "except FileNotFoundError:\n",
        "    print(\"Error: README.md not found in /content/sample_data/\")"
      ],
      "execution_count": null,
      "outputs": [
        {
          "output_type": "stream",
          "name": "stdout",
          "text": [
            "This directory includes a few sample datasets to get you started.\n",
            "\n",
            "*   `california_housing_data*.csv` is California housing data from the 1990 US\n",
            "    Census; more information is available at:\n",
            "    https://docs.google.com/document/d/e/2PACX-1vRhYtsvc5eOR2FWNCwaBiKL6suIOrxJig8LcSBbmCbyYsayia_DvPOOBlXZ4CAlQ5nlDD8kTaIDRwrN/pub\n",
            "\n",
            "*   `mnist_*.csv` is a small sample of the\n",
            "    [MNIST database](https://en.wikipedia.org/wiki/MNIST_database), which is\n",
            "    described at: http://yann.lecun.com/exdb/mnist/\n",
            "\n",
            "*   `anscombe.json` contains a copy of\n",
            "    [Anscombe's quartet](https://en.wikipedia.org/wiki/Anscombe%27s_quartet); it\n",
            "    was originally described in\n",
            "\n",
            "    Anscombe, F. J. (1973). 'Graphs in Statistical Analysis'. American\n",
            "    Statistician. 27 (1): 17-21. JSTOR 2682899.\n",
            "\n",
            "    and our copy was prepared by the\n",
            "    [vega_datasets library](https://github.com/altair-viz/vega_datasets/blob/4f67bdaad10f45e3549984e17e1b3088c731503d/vega_datasets/_data/anscombe.json).\n",
            "\n"
          ]
        }
      ]
    }
  ],
  "metadata": {
    "colab": {
      "provenance": [],
      "include_colab_link": true
    },
    "kernelspec": {
      "display_name": "Python 3",
      "name": "python3"
    }
  },
  "nbformat": 4,
  "nbformat_minor": 0
}